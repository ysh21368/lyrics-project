{
 "cells": [
  {
   "cell_type": "markdown",
   "metadata": {},
   "source": [
    "## 가사 전처리기"
   ]
  },
  {
   "cell_type": "markdown",
   "metadata": {},
   "source": [
    "### 0. 라이브러리 불러오기"
   ]
  },
  {
   "cell_type": "code",
   "execution_count": 2,
   "metadata": {},
   "outputs": [],
   "source": [
    "import pandas as pd\n",
    "import numpy as np\n",
    "from tqdm.notebook import tqdm\n",
    "import time\n",
    "from transformers import AutoTokenizer, AutoModelForSeq2SeqLM\n",
    "import nltk\n"
   ]
  },
  {
   "cell_type": "markdown",
   "metadata": {},
   "source": [
    "### 1. 가사 전처리 방법"
   ]
  },
  {
   "cell_type": "markdown",
   "metadata": {},
   "source": [
    "### 1. 전처리 방법 선택을 위한 라벨링 (정답)"
   ]
  },
  {
   "cell_type": "code",
   "execution_count": 42,
   "metadata": {},
   "outputs": [],
   "source": [
    "music= pd.read_csv('music.csv')"
   ]
  },
  {
   "cell_type": "code",
   "execution_count": 43,
   "metadata": {},
   "outputs": [
    {
     "data": {
      "text/html": [
       "<div>\n",
       "<style scoped>\n",
       "    .dataframe tbody tr th:only-of-type {\n",
       "        vertical-align: middle;\n",
       "    }\n",
       "\n",
       "    .dataframe tbody tr th {\n",
       "        vertical-align: top;\n",
       "    }\n",
       "\n",
       "    .dataframe thead th {\n",
       "        text-align: right;\n",
       "    }\n",
       "</style>\n",
       "<table border=\"1\" class=\"dataframe\">\n",
       "  <thead>\n",
       "    <tr style=\"text-align: right;\">\n",
       "      <th></th>\n",
       "      <th>제목</th>\n",
       "      <th>가수</th>\n",
       "      <th>발매일</th>\n",
       "      <th>장르</th>\n",
       "      <th>가사</th>\n",
       "      <th>이미지</th>\n",
       "    </tr>\n",
       "  </thead>\n",
       "  <tbody>\n",
       "    <tr>\n",
       "      <th>0</th>\n",
       "      <td>날 사랑했다면</td>\n",
       "      <td>박학기</td>\n",
       "      <td>1993.10.01</td>\n",
       "      <td>발라드</td>\n",
       "      <td>떠나버린 널 깨닫기엔\\n하늘이 너무 맑아\\n우리에게 필요한 건 시간일뿐\\n\\n영화속...</td>\n",
       "      <td>https://cdnimg.melon.co.kr/cm/album/images/005...</td>\n",
       "    </tr>\n",
       "    <tr>\n",
       "      <th>1</th>\n",
       "      <td>그대 떠난 이밤에</td>\n",
       "      <td>옥슨 80</td>\n",
       "      <td>1981.09.25</td>\n",
       "      <td>록/메탈</td>\n",
       "      <td>바람부네 아픈 내맘에\\n아름다운 추억 못잊어 부네\\n그대 떠난 이밤\\n그대 떠난 이...</td>\n",
       "      <td>https://cdnimg.melon.co.kr/cm/album/images/000...</td>\n",
       "    </tr>\n",
       "    <tr>\n",
       "      <th>2</th>\n",
       "      <td>나는 홀로 있어도</td>\n",
       "      <td>유심초</td>\n",
       "      <td>1980.11.01</td>\n",
       "      <td>성인가요/트로트</td>\n",
       "      <td>하얀 불빛 아래에\\n침묵만이 흐르고\\n낯설은 네 눈길에\\n눈물만이 흐르네\\n멀어져 ...</td>\n",
       "      <td>https://cdnimg.melon.co.kr/cm/album/images/003...</td>\n",
       "    </tr>\n",
       "    <tr>\n",
       "      <th>3</th>\n",
       "      <td>Love Is (Dance Mega Mix Ver.)</td>\n",
       "      <td>터보</td>\n",
       "      <td>2001.06.20</td>\n",
       "      <td>댄스</td>\n",
       "      <td>우린 6년전에 만났지\\n\\n널 사랑하게 됐어\\n\\n내 마음을 숨긴체\\n\\n널 따라 ...</td>\n",
       "      <td>https://cdnimg.melon.co.kr/cm/album/images/003...</td>\n",
       "    </tr>\n",
       "    <tr>\n",
       "      <th>4</th>\n",
       "      <td>사랑밖엔 난 몰라 (Original Ver.)</td>\n",
       "      <td>심수봉</td>\n",
       "      <td>2009.08.13</td>\n",
       "      <td>성인가요/트로트</td>\n",
       "      <td>그대 내 곁에선 순간\\n\\n그 눈빛이 너무 좋아\\n\\n어제는 울었지만\\n\\n오늘은 ...</td>\n",
       "      <td>https://cdnimg.melon.co.kr/cm/album/images/006...</td>\n",
       "    </tr>\n",
       "    <tr>\n",
       "      <th>...</th>\n",
       "      <td>...</td>\n",
       "      <td>...</td>\n",
       "      <td>...</td>\n",
       "      <td>...</td>\n",
       "      <td>...</td>\n",
       "      <td>...</td>\n",
       "    </tr>\n",
       "    <tr>\n",
       "      <th>4406</th>\n",
       "      <td>작은 기다림</td>\n",
       "      <td>쿨 (COOL)</td>\n",
       "      <td>1995.10.01</td>\n",
       "      <td>댄스</td>\n",
       "      <td>널 이렇게 보내 줄 수\\n밖에 없었어\\n나 후회할 지도 모른 채\\n끝없이 다가오는 ...</td>\n",
       "      <td>https://cdnimg.melon.co.kr/cm/album/images/000...</td>\n",
       "    </tr>\n",
       "    <tr>\n",
       "      <th>4407</th>\n",
       "      <td>WE LIKE 2 PARTY</td>\n",
       "      <td>BIGBANG (빅뱅)</td>\n",
       "      <td>2015.06.01</td>\n",
       "      <td>랩/힙합</td>\n",
       "      <td>오늘도 친구들이 왔어\\nMAN HOW YOU BEEN WHATS UP\\nAYE 여기...</td>\n",
       "      <td>https://cdnimg.melon.co.kr/cm/album/images/023...</td>\n",
       "    </tr>\n",
       "    <tr>\n",
       "      <th>4408</th>\n",
       "      <td>내 손을 잡아</td>\n",
       "      <td>아이유</td>\n",
       "      <td>2011.05.25</td>\n",
       "      <td>발라드, 국내드라마</td>\n",
       "      <td>느낌이 오잖아\\n\\n떨리고 있잖아\\n\\n언제까지 눈치만 볼 거니\\n\\n네 맘을 말해...</td>\n",
       "      <td>https://cdnimg.melon.co.kr/cm/album/images/012...</td>\n",
       "    </tr>\n",
       "    <tr>\n",
       "      <th>4409</th>\n",
       "      <td>Lie (Radio Ver.)</td>\n",
       "      <td>박화요비</td>\n",
       "      <td>2000.06.14</td>\n",
       "      <td>R&amp;B/Soul</td>\n",
       "      <td>말해줄래 나를 위해라면\\n이러진 말아\\n아직 그댈 놓아주기에는\\n너무 난 두려워\\n...</td>\n",
       "      <td>https://cdnimg.melon.co.kr/cm/album/images/000...</td>\n",
       "    </tr>\n",
       "    <tr>\n",
       "      <th>4410</th>\n",
       "      <td>Hip Song</td>\n",
       "      <td>비</td>\n",
       "      <td>2010.04.07</td>\n",
       "      <td>댄스</td>\n",
       "      <td>Yeah This is hip song right here\\nHa ha Brand ...</td>\n",
       "      <td>https://cdnimg.melon.co.kr/cm2/album/images/00...</td>\n",
       "    </tr>\n",
       "  </tbody>\n",
       "</table>\n",
       "<p>4411 rows × 6 columns</p>\n",
       "</div>"
      ],
      "text/plain": [
       "                                 제목            가수         발매일          장르  \\\n",
       "0                           날 사랑했다면           박학기  1993.10.01         발라드   \n",
       "1                         그대 떠난 이밤에         옥슨 80  1981.09.25        록/메탈   \n",
       "2                         나는 홀로 있어도           유심초  1980.11.01    성인가요/트로트   \n",
       "3     Love Is (Dance Mega Mix Ver.)            터보  2001.06.20          댄스   \n",
       "4         사랑밖엔 난 몰라 (Original Ver.)           심수봉  2009.08.13    성인가요/트로트   \n",
       "...                             ...           ...         ...         ...   \n",
       "4406                         작은 기다림      쿨 (COOL)  1995.10.01          댄스   \n",
       "4407                WE LIKE 2 PARTY  BIGBANG (빅뱅)  2015.06.01        랩/힙합   \n",
       "4408                        내 손을 잡아           아이유  2011.05.25  발라드, 국내드라마   \n",
       "4409               Lie (Radio Ver.)          박화요비  2000.06.14    R&B/Soul   \n",
       "4410                       Hip Song             비  2010.04.07          댄스   \n",
       "\n",
       "                                                     가사  \\\n",
       "0     떠나버린 널 깨닫기엔\\n하늘이 너무 맑아\\n우리에게 필요한 건 시간일뿐\\n\\n영화속...   \n",
       "1     바람부네 아픈 내맘에\\n아름다운 추억 못잊어 부네\\n그대 떠난 이밤\\n그대 떠난 이...   \n",
       "2     하얀 불빛 아래에\\n침묵만이 흐르고\\n낯설은 네 눈길에\\n눈물만이 흐르네\\n멀어져 ...   \n",
       "3     우린 6년전에 만났지\\n\\n널 사랑하게 됐어\\n\\n내 마음을 숨긴체\\n\\n널 따라 ...   \n",
       "4     그대 내 곁에선 순간\\n\\n그 눈빛이 너무 좋아\\n\\n어제는 울었지만\\n\\n오늘은 ...   \n",
       "...                                                 ...   \n",
       "4406  널 이렇게 보내 줄 수\\n밖에 없었어\\n나 후회할 지도 모른 채\\n끝없이 다가오는 ...   \n",
       "4407  오늘도 친구들이 왔어\\nMAN HOW YOU BEEN WHATS UP\\nAYE 여기...   \n",
       "4408  느낌이 오잖아\\n\\n떨리고 있잖아\\n\\n언제까지 눈치만 볼 거니\\n\\n네 맘을 말해...   \n",
       "4409  말해줄래 나를 위해라면\\n이러진 말아\\n아직 그댈 놓아주기에는\\n너무 난 두려워\\n...   \n",
       "4410  Yeah This is hip song right here\\nHa ha Brand ...   \n",
       "\n",
       "                                                    이미지  \n",
       "0     https://cdnimg.melon.co.kr/cm/album/images/005...  \n",
       "1     https://cdnimg.melon.co.kr/cm/album/images/000...  \n",
       "2     https://cdnimg.melon.co.kr/cm/album/images/003...  \n",
       "3     https://cdnimg.melon.co.kr/cm/album/images/003...  \n",
       "4     https://cdnimg.melon.co.kr/cm/album/images/006...  \n",
       "...                                                 ...  \n",
       "4406  https://cdnimg.melon.co.kr/cm/album/images/000...  \n",
       "4407  https://cdnimg.melon.co.kr/cm/album/images/023...  \n",
       "4408  https://cdnimg.melon.co.kr/cm/album/images/012...  \n",
       "4409  https://cdnimg.melon.co.kr/cm/album/images/000...  \n",
       "4410  https://cdnimg.melon.co.kr/cm2/album/images/00...  \n",
       "\n",
       "[4411 rows x 6 columns]"
      ]
     },
     "execution_count": 43,
     "metadata": {},
     "output_type": "execute_result"
    }
   ],
   "source": [
    "music"
   ]
  },
  {
   "cell_type": "code",
   "execution_count": 46,
   "metadata": {},
   "outputs": [
    {
     "data": {
      "text/plain": [
       "Index(['제목', '가수', '발매일', '장르', '가사', '이미지'], dtype='object')"
      ]
     },
     "execution_count": 46,
     "metadata": {},
     "output_type": "execute_result"
    }
   ],
   "source": [
    "music.columns"
   ]
  },
  {
   "cell_type": "markdown",
   "metadata": {},
   "source": [
    "### 2. 전처리 방법"
   ]
  },
  {
   "cell_type": "markdown",
   "metadata": {},
   "source": [
    "#### 2-0) 줄바꿈 생략 및 특수문자 제거"
   ]
  },
  {
   "cell_type": "code",
   "execution_count": 36,
   "metadata": {},
   "outputs": [],
   "source": [
    "def remove_newlines_and_special_chars(paragraph):\n",
    "    paragraph = paragraph.replace(\"\\n\", \" \")\n",
    "\n",
    "    chars_to_remove = \"!@#$%^&*()_+-=[]{};':\\\"<>,.?/\\\\|\"\n",
    "\n",
    "    return paragraph.translate(str.maketrans(\"\", \"\", chars_to_remove))"
   ]
  },
  {
   "cell_type": "code",
   "execution_count": 49,
   "metadata": {},
   "outputs": [
    {
     "data": {
      "text/plain": [
       "'떠나버린 널 깨닫기엔\\n하늘이 너무 맑아\\n우리에게 필요한 건 시간일뿐\\n\\n영화속의 사랑 얘기도\\n힘든 순간이 있어\\n우린 다시 만날거야\\n영화속의 주인공처럼\\n네가 택한 길이\\n언제나 너의 건 아니야\\n아직은 아무런 말도 하지 말아줘\\n날 사랑했다면\\n\\n멀어지는 널 깨닫기엔\\n하늘이 너무 맑아\\n그대에게 필요한 건 시간일뿐\\n\\n영화속의 사랑 얘기도\\n힘든 순간이 있어\\n우린 다시 웃을거야\\n영화속의 주인공처럼\\n네가 택한 길이\\n언제나 너의 건 아니야\\n아직은 아무런 말도 하지 말아줘\\n날 다시 한번만 바라봐\\n나에게 다가올 시간이\\n날 더욱더 슬퍼지게만 해\\n예전의 밝은 미소를 내게 보여줘\\n날 사랑했다면'"
      ]
     },
     "execution_count": 49,
     "metadata": {},
     "output_type": "execute_result"
    }
   ],
   "source": [
    "music['가사'][0]"
   ]
  },
  {
   "cell_type": "code",
   "execution_count": 50,
   "metadata": {},
   "outputs": [],
   "source": [
    "for i in range(len(music['가사'])):\n",
    "     music['가사'][i] = remove_newlines_and_special_chars(music['가사'][i])"
   ]
  },
  {
   "cell_type": "code",
   "execution_count": 51,
   "metadata": {},
   "outputs": [
    {
     "data": {
      "text/plain": [
       "'떠나버린 널 깨닫기엔 하늘이 너무 맑아 우리에게 필요한 건 시간일뿐  영화속의 사랑 얘기도 힘든 순간이 있어 우린 다시 만날거야 영화속의 주인공처럼 네가 택한 길이 언제나 너의 건 아니야 아직은 아무런 말도 하지 말아줘 날 사랑했다면  멀어지는 널 깨닫기엔 하늘이 너무 맑아 그대에게 필요한 건 시간일뿐  영화속의 사랑 얘기도 힘든 순간이 있어 우린 다시 웃을거야 영화속의 주인공처럼 네가 택한 길이 언제나 너의 건 아니야 아직은 아무런 말도 하지 말아줘 날 다시 한번만 바라봐 나에게 다가올 시간이 날 더욱더 슬퍼지게만 해 예전의 밝은 미소를 내게 보여줘 날 사랑했다면'"
      ]
     },
     "execution_count": 51,
     "metadata": {},
     "output_type": "execute_result"
    }
   ],
   "source": [
    "music['가사'][0]"
   ]
  },
  {
   "cell_type": "markdown",
   "metadata": {},
   "source": [
    "#### 2-1) Pororo (가사 축약) in Colab"
   ]
  },
  {
   "cell_type": "code",
   "execution_count": null,
   "metadata": {},
   "outputs": [],
   "source": [
    "!pip install konlpy"
   ]
  },
  {
   "cell_type": "code",
   "execution_count": null,
   "metadata": {},
   "outputs": [],
   "source": [
    "!pip install git+https://github.com/kakaobrain/pororo.git"
   ]
  },
  {
   "cell_type": "code",
   "execution_count": null,
   "metadata": {},
   "outputs": [],
   "source": [
    "!pip install python-mecab-ko"
   ]
  },
  {
   "cell_type": "code",
   "execution_count": null,
   "metadata": {},
   "outputs": [],
   "source": [
    "from tqdm import tqdm\n",
    "from pororo import Pororo"
   ]
  },
  {
   "cell_type": "code",
   "execution_count": null,
   "metadata": {},
   "outputs": [],
   "source": [
    "# pororo 라이브러리 사용 model은 \"abstractive\"\n",
    "abs_summ = Pororo(task=\"text_summarization\", lang=\"ko\", model=\"abstractive\")"
   ]
  },
  {
   "cell_type": "code",
   "execution_count": 4,
   "metadata": {},
   "outputs": [
    {
     "data": {
      "text/plain": [
       "Index(['제목', '가수', '발매일', '장르', '가사', '이미지'], dtype='object')"
      ]
     },
     "execution_count": 4,
     "metadata": {},
     "output_type": "execute_result"
    }
   ],
   "source": [
    "sample_music.columns"
   ]
  },
  {
   "cell_type": "code",
   "execution_count": null,
   "metadata": {},
   "outputs": [],
   "source": [
    "sample_music['pororo_pre'] = np.nan"
   ]
  },
  {
   "cell_type": "code",
   "execution_count": null,
   "metadata": {},
   "outputs": [],
   "source": [
    "for i in tqdm(range(len(sample_music['가사']))):\n",
    "      #매개 변수들은 default값과 전부 동일\n",
    "  lyric = sample_music['가사'][i]\n",
    "  sample_music['pororo_pre'][i] = abs_summ(\n",
    "      lyric,\n",
    "      beam=5,\n",
    "      len_penalty=0.6,\n",
    "      no_repeat_ngram_size=3,\n",
    "      top_k=50,\n",
    "      top_p=0.7\n",
    "  )"
   ]
  },
  {
   "cell_type": "code",
   "execution_count": null,
   "metadata": {},
   "outputs": [],
   "source": [
    "sample_music.isnull().sum()"
   ]
  },
  {
   "cell_type": "code",
   "execution_count": null,
   "metadata": {},
   "outputs": [],
   "source": [
    "sample_music.loc[0] #pororo_pre column에 축약된 가사 확인"
   ]
  },
  {
   "attachments": {},
   "cell_type": "markdown",
   "metadata": {},
   "source": [
    "#### 2-2) textrank"
   ]
  },
  {
   "cell_type": "code",
   "execution_count": null,
   "metadata": {},
   "outputs": [],
   "source": [
    "from transformers import AutoTokenizer, AutoModelForSeq2SeqLM\n",
    "import nltk\n",
    "import pandas as pd\n",
    "import numpy as np\n",
    "nltk.download('punkt')\n",
    "model_dir = \"lcw99/t5-base-korean-text-summary\"\n",
    "tokenizer = AutoTokenizer.from_pretrained(model_dir)\n",
    "model = AutoModelForSeq2SeqLM.from_pretrained(model_dir)\n",
    "\n",
    "max_input_length = 512"
   ]
  },
  {
   "cell_type": "code",
   "execution_count": null,
   "metadata": {},
   "outputs": [],
   "source": [
    "from transformers import AutoTokenizer, AutoModelForSeq2SeqLM\n",
    "import nltk\n",
    "sample_music['요약가사'] = np.nan\n",
    "nltk.download('punkt')\n",
    "\n",
    "model_dir = \"lcw99/t5-base-korean-text-summary\"\n",
    "tokenizer = AutoTokenizer.from_pretrained(model_dir)\n",
    "model = AutoModelForSeq2SeqLM.from_pretrained(model_dir)\n",
    "\n",
    "max_input_length = 512\n",
    "for i in tqdm(range(len(sample_music['전처리가사']))):\n",
    "\n",
    "    text = sample_music['전처리가사'][i]\n",
    "\n",
    "    inputs = [\"summarize: \" + text]\n",
    "\n",
    "    inputs = tokenizer(inputs, max_length=max_input_length, truncation=True, return_tensors=\"pt\")\n",
    "    output = model.generate(**inputs, num_beams=8, do_sample=True, min_length=10, max_length=100)\n",
    "    decoded_output = tokenizer.batch_decode(output, skip_special_tokens=True)[0]\n",
    "    predicted_title = nltk.sent_tokenize(decoded_output.strip())[0]\n",
    "\n",
    "    sample_music['요약가사'][i] =predicted_title"
   ]
  },
  {
   "cell_type": "markdown",
   "metadata": {},
   "source": [
    "#### 2-3) half (가사 축약)"
   ]
  },
  {
   "cell_type": "code",
   "execution_count": null,
   "metadata": {},
   "outputs": [],
   "source": [
    "sample_music['half_pre'] = np.nan"
   ]
  },
  {
   "cell_type": "code",
   "execution_count": null,
   "metadata": {},
   "outputs": [],
   "source": [
    "sample_music[0]"
   ]
  },
  {
   "cell_type": "code",
   "execution_count": null,
   "metadata": {},
   "outputs": [],
   "source": [
    "len(sample_music['가사'][0])"
   ]
  },
  {
   "cell_type": "code",
   "execution_count": null,
   "metadata": {},
   "outputs": [],
   "source": [
    "sample_music['가사'][0][ :len(sample_music['가사'][0]) // 2]"
   ]
  },
  {
   "cell_type": "code",
   "execution_count": null,
   "metadata": {},
   "outputs": [],
   "source": [
    "for i in range(len(sample_music['가사'])):\n",
    "  sample_music['half_pre'][i] = sample_music['가사'][i][ :(len(sample_music['가사'][i]) // 2)]"
   ]
  },
  {
   "cell_type": "code",
   "execution_count": null,
   "metadata": {},
   "outputs": [],
   "source": [
    "sample_music.isnull().sum()"
   ]
  },
  {
   "cell_type": "markdown",
   "metadata": {},
   "source": [
    "#### 2-4) origin (가사 원문)"
   ]
  },
  {
   "cell_type": "code",
   "execution_count": null,
   "metadata": {},
   "outputs": [],
   "source": [
    "sample_music.rename(columns = {'가사':'origin'}, inplace =True)"
   ]
  },
  {
   "cell_type": "markdown",
   "metadata": {},
   "source": [
    "#### 2-5) augment (가사 확장) in Colab"
   ]
  },
  {
   "cell_type": "markdown",
   "metadata": {},
   "source": [
    "##### 2-5-1) NLP_augment :\"KoGPT\" : Failed"
   ]
  },
  {
   "cell_type": "code",
   "execution_count": null,
   "metadata": {},
   "outputs": [],
   "source": [
    "!pip install -q torch~=1.9.0"
   ]
  },
  {
   "cell_type": "code",
   "execution_count": null,
   "metadata": {},
   "outputs": [],
   "source": [
    "!pip install -q transformers~=4.12.0"
   ]
  },
  {
   "cell_type": "code",
   "execution_count": null,
   "metadata": {},
   "outputs": [],
   "source": [
    "import torch\n",
    "from transformers import AutoTokenizer, AutoModelForCausalLM"
   ]
  },
  {
   "cell_type": "code",
   "execution_count": null,
   "metadata": {},
   "outputs": [],
   "source": [
    "tokenizer = AutoTokenizer.from_pretrained(\n",
    "    'kakaobrain/kogpt', revision='KoGPT6B-ryan1.5b-float16',\n",
    "    bos_token='[BOS]', eos_token='[EOS]', unk_token='[UNK]', pad_token='[PAD]', mask_token='[MASK]'\n",
    ")"
   ]
  },
  {
   "cell_type": "code",
   "execution_count": null,
   "metadata": {},
   "outputs": [],
   "source": [
    "device = torch.device(\"cuda\" if torch.cuda.is_available() else \"cpu\")\n",
    "print('Current device:', device)"
   ]
  },
  {
   "cell_type": "code",
   "execution_count": null,
   "metadata": {},
   "outputs": [],
   "source": [
    "model = AutoModelForCausalLM.from_pretrained(\n",
    "    'kakaobrain/kogpt', revision='KoGPT6B-ryan1.5b-float16',\n",
    "    pad_token_id=tokenizer.eos_token_id,\n",
    "    torch_dtype=torch.float16, low_cpu_mem_usage=True\n",
    ").to(device=device, non_blocking=True)\n",
    "_ = model.eval()"
   ]
  },
  {
   "cell_type": "code",
   "execution_count": null,
   "metadata": {},
   "outputs": [],
   "source": [
    "def gpt(prompt, max_length: int = 256):\n",
    "    with torch.no_grad():\n",
    "    tokens = tokenizer.encode(prompt, return_tensors='pt').to(device=device, non_blocking=True)\n",
    "    gen_tokens = model.generate(tokens, do_sample=True, temperature=0.8, max_length=max_length)\n",
    "    generated = tokenizer.batch_decode(gen_tokens)[0]\n",
    "    return generated"
   ]
  },
  {
   "cell_type": "code",
   "execution_count": null,
   "metadata": {},
   "outputs": [],
   "source": [
    "gpt(prompt)"
   ]
  },
  {
   "cell_type": "markdown",
   "metadata": {},
   "source": [
    "##### 2-5-2) NLP_augment :\"EDA: Easy Data Augmentation Techniques for Boosting Performance on Text Classification Tasks\" : Success"
   ]
  },
  {
   "cell_type": "code",
   "execution_count": null,
   "metadata": {},
   "outputs": [],
   "source": [
    "!pip install -U nltk"
   ]
  },
  {
   "cell_type": "code",
   "execution_count": null,
   "metadata": {},
   "outputs": [],
   "source": [
    "# EDA: Easy Data Augmentation Techniques for Boosting Performance on Text Classification Tasks clone\n",
    "!git clone https://github.com/jasonwei20/eda_nlp.git"
   ]
  },
  {
   "cell_type": "code",
   "execution_count": null,
   "metadata": {},
   "outputs": [],
   "source": [
    "# KorEDA clone\n",
    "# wordnet은 KAIST에서 만든 Korean WordNet(KWN)을 사용함.\n",
    "!git clone https://github.com/catSirup/KorEDA.git"
   ]
  },
  {
   "cell_type": "code",
   "execution_count": null,
   "metadata": {},
   "outputs": [],
   "source": [
    "import random\n",
    "import pickle\n",
    "import re\n",
    "\n",
    "wordnet = {}\n",
    "with open(\"/content/KorEDA/wordnet.pickle\", \"rb\") as f:\n",
    "\twordnet = pickle.load(f)"
   ]
  },
  {
   "cell_type": "code",
   "execution_count": null,
   "metadata": {},
   "outputs": [],
   "source": [
    "wordnet"
   ]
  },
  {
   "cell_type": "code",
   "execution_count": null,
   "metadata": {},
   "outputs": [],
   "source": [
    "from eda import EDA\n",
    "\n",
    "EDA(\"\"\"숨을 크게 쉬어봐요\n",
    "당신의 가슴 양쪽이 저리게\n",
    "조금은 아파올 때까지\n",
    "숨을 더 뱉어봐요\n",
    "당신의 안에 남은 게 없다고\n",
    "느껴질 때까지\n",
    "숨이 벅차올라도 괜찮아요\n",
    "아무도 그댈 탓하진 않아\n",
    "가끔은 실수해도 돼\n",
    "누구든 그랬으니까\n",
    "괜찮다는 말\n",
    "말뿐인 위로지만\n",
    "누군가의 한숨\n",
    "그 무거운 숨을\n",
    "내가 어떻게\n",
    "헤아릴 수가 있을까요\n",
    "당신의 한숨\n",
    "그 깊일 이해할 순 없겠지만\n",
    "괜찮아요\n",
    "내가 안아줄게요\n",
    "숨이 벅차올라도 괜찮아요\n",
    "아무도 그댈 탓하진 않아\n",
    "가끔은 실수해도 돼\n",
    "누구든 그랬으니까\n",
    "괜찮다는 말\n",
    "말뿐인 위로지만\n",
    "누군가의 한숨\n",
    "그 무거운 숨을\n",
    "내가 어떻게\n",
    "헤아릴 수가 있을까요\n",
    "당신의 한숨\n",
    "그 깊일 이해할 순 없겠지만\n",
    "괜찮아요\n",
    "내가 안아줄게요\n",
    "남들 눈엔 힘 빠지는\n",
    "한숨으로 보일진 몰라도\n",
    "나는 알고 있죠\n",
    "작은 한숨 내뱉기도 어려운 하루를 보냈단 걸\n",
    "이제 다른 생각은 마요\n",
    "깊이 숨을 쉬어봐요\n",
    "그대로 내뱉어요\n",
    "누군가의 한숨\n",
    "그 무거운 숨을\n",
    "내가 어떻게\n",
    "헤아릴 수가 있을까요\n",
    "당신의 한숨\n",
    "그 깊일 이해할 순 없겠지만 괜찮아요\n",
    "내가 안아줄게요\n",
    "정말 수고했어요\"\"\",  alpha_sr=0.1, alpha_ri=0.1, alpha_rs=0.5, p_rd=0.5, num_aug=9)\n",
    "# rd 와 rs만 사용 sr과 ri는 가사데이터 본연의 의미 왜곡의 문제"
   ]
  },
  {
   "cell_type": "code",
   "execution_count": null,
   "metadata": {},
   "outputs": [],
   "source": [
    "for i in tqdm(range(len(sample_music['가사']))):\n",
    "      #매개 변수들은 default값과 전부 동일\n",
    "  lyric = sample_music['가사'][i]\n",
    "  sample_music['aug_pre'][i] = EDA(\n",
    "      alpha_sr=0.1, alpha_ri=0.1, alpha_rs=0.5, p_rd=0.5, num_aug=9\n",
    "  )"
   ]
  },
  {
   "cell_type": "markdown",
   "metadata": {},
   "source": [
    "### 3. 전처리 방법별 scoring 통합 (DataFrame형태)"
   ]
  },
  {
   "cell_type": "markdown",
   "metadata": {},
   "source": [
    "#### 3-1) 전처리한 결과값과 기존 가사 전문 결과값 비교분석"
   ]
  },
  {
   "cell_type": "code",
   "execution_count": 7,
   "metadata": {},
   "outputs": [],
   "source": [
    "total_pre = pd.read_csv('total_pre.csv')"
   ]
  },
  {
   "cell_type": "code",
   "execution_count": 8,
   "metadata": {},
   "outputs": [],
   "source": [
    "total_score = pd.read_csv('total_score.csv')"
   ]
  },
  {
   "cell_type": "code",
   "execution_count": 31,
   "metadata": {},
   "outputs": [
    {
     "data": {
      "text/html": [
       "<div>\n",
       "<style scoped>\n",
       "    .dataframe tbody tr th:only-of-type {\n",
       "        vertical-align: middle;\n",
       "    }\n",
       "\n",
       "    .dataframe tbody tr th {\n",
       "        vertical-align: top;\n",
       "    }\n",
       "\n",
       "    .dataframe thead th {\n",
       "        text-align: right;\n",
       "    }\n",
       "</style>\n",
       "<table border=\"1\" class=\"dataframe\">\n",
       "  <thead>\n",
       "    <tr style=\"text-align: right;\">\n",
       "      <th></th>\n",
       "      <th>title</th>\n",
       "      <th>singer</th>\n",
       "      <th>index</th>\n",
       "      <th>origin</th>\n",
       "      <th>textrank_pre</th>\n",
       "      <th>half_pre</th>\n",
       "      <th>pororo_pre</th>\n",
       "      <th>aug_pre</th>\n",
       "    </tr>\n",
       "  </thead>\n",
       "  <tbody>\n",
       "    <tr>\n",
       "      <th>0</th>\n",
       "      <td>가로수 그늘아래 서면</td>\n",
       "      <td>이문세</td>\n",
       "      <td>0</td>\n",
       "      <td>171</td>\n",
       "      <td>257.0</td>\n",
       "      <td>192.0</td>\n",
       "      <td>459.0</td>\n",
       "      <td>209.0</td>\n",
       "    </tr>\n",
       "    <tr>\n",
       "      <th>1</th>\n",
       "      <td>임과 함께</td>\n",
       "      <td>남진</td>\n",
       "      <td>97</td>\n",
       "      <td>168</td>\n",
       "      <td>523.0</td>\n",
       "      <td>132.0</td>\n",
       "      <td>428.0</td>\n",
       "      <td>202.0</td>\n",
       "    </tr>\n",
       "    <tr>\n",
       "      <th>2</th>\n",
       "      <td>달의 몰락</td>\n",
       "      <td>울랄라세션</td>\n",
       "      <td>20</td>\n",
       "      <td>191</td>\n",
       "      <td>553.0</td>\n",
       "      <td>515.0</td>\n",
       "      <td>374.0</td>\n",
       "      <td>455.0</td>\n",
       "    </tr>\n",
       "    <tr>\n",
       "      <th>3</th>\n",
       "      <td>사랑 먼지</td>\n",
       "      <td>버블 시스터즈</td>\n",
       "      <td>39</td>\n",
       "      <td>181</td>\n",
       "      <td>379.0</td>\n",
       "      <td>268.0</td>\n",
       "      <td>591.0</td>\n",
       "      <td>223.0</td>\n",
       "    </tr>\n",
       "    <tr>\n",
       "      <th>4</th>\n",
       "      <td>사랑은...향기를 남기고</td>\n",
       "      <td>테이</td>\n",
       "      <td>58</td>\n",
       "      <td>164</td>\n",
       "      <td>349.0</td>\n",
       "      <td>207.0</td>\n",
       "      <td>501.0</td>\n",
       "      <td>202.0</td>\n",
       "    </tr>\n",
       "    <tr>\n",
       "      <th>5</th>\n",
       "      <td>1,2,3,4 (원,투,쓰리,포)</td>\n",
       "      <td>이하이</td>\n",
       "      <td>77</td>\n",
       "      <td>51</td>\n",
       "      <td>223.0</td>\n",
       "      <td>82.0</td>\n",
       "      <td>301.0</td>\n",
       "      <td>91.0</td>\n",
       "    </tr>\n",
       "    <tr>\n",
       "      <th>6</th>\n",
       "      <td>취향저격</td>\n",
       "      <td>iKON</td>\n",
       "      <td>114</td>\n",
       "      <td>84</td>\n",
       "      <td>264.0</td>\n",
       "      <td>86.0</td>\n",
       "      <td>198.0</td>\n",
       "      <td>120.0</td>\n",
       "    </tr>\n",
       "    <tr>\n",
       "      <th>7</th>\n",
       "      <td>Touch My Body</td>\n",
       "      <td>씨스타</td>\n",
       "      <td>134</td>\n",
       "      <td>78</td>\n",
       "      <td>318.0</td>\n",
       "      <td>94.0</td>\n",
       "      <td>183.0</td>\n",
       "      <td>97.0</td>\n",
       "    </tr>\n",
       "  </tbody>\n",
       "</table>\n",
       "</div>"
      ],
      "text/plain": [
       "                title   singer  index  origin  textrank_pre  half_pre  \\\n",
       "0         가로수 그늘아래 서면      이문세      0     171         257.0     192.0   \n",
       "1               임과 함께       남진     97     168         523.0     132.0   \n",
       "2               달의 몰락    울랄라세션     20     191         553.0     515.0   \n",
       "3               사랑 먼지  버블 시스터즈     39     181         379.0     268.0   \n",
       "4       사랑은...향기를 남기고       테이     58     164         349.0     207.0   \n",
       "5  1,2,3,4 (원,투,쓰리,포)      이하이     77      51         223.0      82.0   \n",
       "6                취향저격     iKON    114      84         264.0      86.0   \n",
       "7       Touch My Body      씨스타    134      78         318.0      94.0   \n",
       "\n",
       "   pororo_pre  aug_pre  \n",
       "0       459.0    209.0  \n",
       "1       428.0    202.0  \n",
       "2       374.0    455.0  \n",
       "3       591.0    223.0  \n",
       "4       501.0    202.0  \n",
       "5       301.0     91.0  \n",
       "6       198.0    120.0  \n",
       "7       183.0     97.0  "
      ]
     },
     "execution_count": 31,
     "metadata": {},
     "output_type": "execute_result"
    }
   ],
   "source": [
    "total_score"
   ]
  },
  {
   "cell_type": "markdown",
   "metadata": {},
   "source": [
    "### 4. 최종 전처리 과정"
   ]
  },
  {
   "cell_type": "code",
   "execution_count": 33,
   "metadata": {},
   "outputs": [],
   "source": [
    "music = pd.read_csv('music.csv')"
   ]
  },
  {
   "cell_type": "code",
   "execution_count": 52,
   "metadata": {},
   "outputs": [],
   "source": [
    "for i in range(len(music['가사'])):\n",
    "     music['가사'][i] = remove_newlines_and_special_chars(music['가사'][i])"
   ]
  },
  {
   "cell_type": "code",
   "execution_count": 40,
   "metadata": {},
   "outputs": [
    {
     "data": {
      "text/html": [
       "<div>\n",
       "<style scoped>\n",
       "    .dataframe tbody tr th:only-of-type {\n",
       "        vertical-align: middle;\n",
       "    }\n",
       "\n",
       "    .dataframe tbody tr th {\n",
       "        vertical-align: top;\n",
       "    }\n",
       "\n",
       "    .dataframe thead th {\n",
       "        text-align: right;\n",
       "    }\n",
       "</style>\n",
       "<table border=\"1\" class=\"dataframe\">\n",
       "  <thead>\n",
       "    <tr style=\"text-align: right;\">\n",
       "      <th></th>\n",
       "      <th>제목</th>\n",
       "      <th>가수</th>\n",
       "      <th>발매일</th>\n",
       "      <th>장르</th>\n",
       "      <th>가사</th>\n",
       "      <th>이미지</th>\n",
       "    </tr>\n",
       "  </thead>\n",
       "  <tbody>\n",
       "    <tr>\n",
       "      <th>0</th>\n",
       "      <td>날 사랑했다면</td>\n",
       "      <td>박학기</td>\n",
       "      <td>1993.10.01</td>\n",
       "      <td>발라드</td>\n",
       "      <td>떠나버린 널 깨닫기엔 하늘이 너무 맑아 우리에게 필요한 건 시간일뿐  영화속의 사랑...</td>\n",
       "      <td>https://cdnimg.melon.co.kr/cm/album/images/005...</td>\n",
       "    </tr>\n",
       "    <tr>\n",
       "      <th>1</th>\n",
       "      <td>그대 떠난 이밤에</td>\n",
       "      <td>옥슨 80</td>\n",
       "      <td>1981.09.25</td>\n",
       "      <td>록/메탈</td>\n",
       "      <td>바람부네 아픈 내맘에 아름다운 추억 못잊어 부네 그대 떠난 이밤 그대 떠난 이밤이 ...</td>\n",
       "      <td>https://cdnimg.melon.co.kr/cm/album/images/000...</td>\n",
       "    </tr>\n",
       "    <tr>\n",
       "      <th>2</th>\n",
       "      <td>나는 홀로 있어도</td>\n",
       "      <td>유심초</td>\n",
       "      <td>1980.11.01</td>\n",
       "      <td>성인가요/트로트</td>\n",
       "      <td>하얀 불빛 아래에 침묵만이 흐르고 낯설은 네 눈길에 눈물만이 흐르네 멀어져 간 발길...</td>\n",
       "      <td>https://cdnimg.melon.co.kr/cm/album/images/003...</td>\n",
       "    </tr>\n",
       "    <tr>\n",
       "      <th>3</th>\n",
       "      <td>Love Is (Dance Mega Mix Ver.)</td>\n",
       "      <td>터보</td>\n",
       "      <td>2001.06.20</td>\n",
       "      <td>댄스</td>\n",
       "      <td>우린 6년전에 만났지  널 사랑하게 됐어  내 마음을 숨긴체  널 따라 다녀었지  ...</td>\n",
       "      <td>https://cdnimg.melon.co.kr/cm/album/images/003...</td>\n",
       "    </tr>\n",
       "    <tr>\n",
       "      <th>4</th>\n",
       "      <td>사랑밖엔 난 몰라 (Original Ver.)</td>\n",
       "      <td>심수봉</td>\n",
       "      <td>2009.08.13</td>\n",
       "      <td>성인가요/트로트</td>\n",
       "      <td>그대 내 곁에선 순간  그 눈빛이 너무 좋아  어제는 울었지만  오늘은 당신 땜에 ...</td>\n",
       "      <td>https://cdnimg.melon.co.kr/cm/album/images/006...</td>\n",
       "    </tr>\n",
       "    <tr>\n",
       "      <th>...</th>\n",
       "      <td>...</td>\n",
       "      <td>...</td>\n",
       "      <td>...</td>\n",
       "      <td>...</td>\n",
       "      <td>...</td>\n",
       "      <td>...</td>\n",
       "    </tr>\n",
       "    <tr>\n",
       "      <th>4406</th>\n",
       "      <td>작은 기다림</td>\n",
       "      <td>쿨 (COOL)</td>\n",
       "      <td>1995.10.01</td>\n",
       "      <td>댄스</td>\n",
       "      <td>널 이렇게 보내 줄 수 밖에 없었어 나 후회할 지도 모른 채 끝없이 다가오는 너와의...</td>\n",
       "      <td>https://cdnimg.melon.co.kr/cm/album/images/000...</td>\n",
       "    </tr>\n",
       "    <tr>\n",
       "      <th>4407</th>\n",
       "      <td>WE LIKE 2 PARTY</td>\n",
       "      <td>BIGBANG (빅뱅)</td>\n",
       "      <td>2015.06.01</td>\n",
       "      <td>랩/힙합</td>\n",
       "      <td>오늘도 친구들이 왔어 MAN HOW YOU BEEN WHATS UP AYE 여기 한...</td>\n",
       "      <td>https://cdnimg.melon.co.kr/cm/album/images/023...</td>\n",
       "    </tr>\n",
       "    <tr>\n",
       "      <th>4408</th>\n",
       "      <td>내 손을 잡아</td>\n",
       "      <td>아이유</td>\n",
       "      <td>2011.05.25</td>\n",
       "      <td>발라드, 국내드라마</td>\n",
       "      <td>느낌이 오잖아  떨리고 있잖아  언제까지 눈치만 볼 거니  네 맘을 말해봐  딴청 ...</td>\n",
       "      <td>https://cdnimg.melon.co.kr/cm/album/images/012...</td>\n",
       "    </tr>\n",
       "    <tr>\n",
       "      <th>4409</th>\n",
       "      <td>Lie (Radio Ver.)</td>\n",
       "      <td>박화요비</td>\n",
       "      <td>2000.06.14</td>\n",
       "      <td>R&amp;B/Soul</td>\n",
       "      <td>말해줄래 나를 위해라면 이러진 말아 아직 그댈 놓아주기에는 너무 난 두려워 이미 지...</td>\n",
       "      <td>https://cdnimg.melon.co.kr/cm/album/images/000...</td>\n",
       "    </tr>\n",
       "    <tr>\n",
       "      <th>4410</th>\n",
       "      <td>Hip Song</td>\n",
       "      <td>비</td>\n",
       "      <td>2010.04.07</td>\n",
       "      <td>댄스</td>\n",
       "      <td>Yeah This is hip song right here Ha ha Brand n...</td>\n",
       "      <td>https://cdnimg.melon.co.kr/cm2/album/images/00...</td>\n",
       "    </tr>\n",
       "  </tbody>\n",
       "</table>\n",
       "<p>4411 rows × 6 columns</p>\n",
       "</div>"
      ],
      "text/plain": [
       "                                 제목            가수         발매일          장르  \\\n",
       "0                           날 사랑했다면           박학기  1993.10.01         발라드   \n",
       "1                         그대 떠난 이밤에         옥슨 80  1981.09.25        록/메탈   \n",
       "2                         나는 홀로 있어도           유심초  1980.11.01    성인가요/트로트   \n",
       "3     Love Is (Dance Mega Mix Ver.)            터보  2001.06.20          댄스   \n",
       "4         사랑밖엔 난 몰라 (Original Ver.)           심수봉  2009.08.13    성인가요/트로트   \n",
       "...                             ...           ...         ...         ...   \n",
       "4406                         작은 기다림      쿨 (COOL)  1995.10.01          댄스   \n",
       "4407                WE LIKE 2 PARTY  BIGBANG (빅뱅)  2015.06.01        랩/힙합   \n",
       "4408                        내 손을 잡아           아이유  2011.05.25  발라드, 국내드라마   \n",
       "4409               Lie (Radio Ver.)          박화요비  2000.06.14    R&B/Soul   \n",
       "4410                       Hip Song             비  2010.04.07          댄스   \n",
       "\n",
       "                                                     가사  \\\n",
       "0     떠나버린 널 깨닫기엔 하늘이 너무 맑아 우리에게 필요한 건 시간일뿐  영화속의 사랑...   \n",
       "1     바람부네 아픈 내맘에 아름다운 추억 못잊어 부네 그대 떠난 이밤 그대 떠난 이밤이 ...   \n",
       "2     하얀 불빛 아래에 침묵만이 흐르고 낯설은 네 눈길에 눈물만이 흐르네 멀어져 간 발길...   \n",
       "3     우린 6년전에 만났지  널 사랑하게 됐어  내 마음을 숨긴체  널 따라 다녀었지  ...   \n",
       "4     그대 내 곁에선 순간  그 눈빛이 너무 좋아  어제는 울었지만  오늘은 당신 땜에 ...   \n",
       "...                                                 ...   \n",
       "4406  널 이렇게 보내 줄 수 밖에 없었어 나 후회할 지도 모른 채 끝없이 다가오는 너와의...   \n",
       "4407  오늘도 친구들이 왔어 MAN HOW YOU BEEN WHATS UP AYE 여기 한...   \n",
       "4408  느낌이 오잖아  떨리고 있잖아  언제까지 눈치만 볼 거니  네 맘을 말해봐  딴청 ...   \n",
       "4409  말해줄래 나를 위해라면 이러진 말아 아직 그댈 놓아주기에는 너무 난 두려워 이미 지...   \n",
       "4410  Yeah This is hip song right here Ha ha Brand n...   \n",
       "\n",
       "                                                    이미지  \n",
       "0     https://cdnimg.melon.co.kr/cm/album/images/005...  \n",
       "1     https://cdnimg.melon.co.kr/cm/album/images/000...  \n",
       "2     https://cdnimg.melon.co.kr/cm/album/images/003...  \n",
       "3     https://cdnimg.melon.co.kr/cm/album/images/003...  \n",
       "4     https://cdnimg.melon.co.kr/cm/album/images/006...  \n",
       "...                                                 ...  \n",
       "4406  https://cdnimg.melon.co.kr/cm/album/images/000...  \n",
       "4407  https://cdnimg.melon.co.kr/cm/album/images/023...  \n",
       "4408  https://cdnimg.melon.co.kr/cm/album/images/012...  \n",
       "4409  https://cdnimg.melon.co.kr/cm/album/images/000...  \n",
       "4410  https://cdnimg.melon.co.kr/cm2/album/images/00...  \n",
       "\n",
       "[4411 rows x 6 columns]"
      ]
     },
     "execution_count": 40,
     "metadata": {},
     "output_type": "execute_result"
    }
   ],
   "source": [
    "music"
   ]
  },
  {
   "cell_type": "code",
   "execution_count": 39,
   "metadata": {},
   "outputs": [
    {
     "data": {
      "text/plain": [
       "'바람부네 아픈 내맘에 아름다운 추억 못잊어 부네 그대 떠난 이밤 그대 떠난 이밤이 깊어갈수록 사랑의 노래 울려퍼지네 우리 사랑에 오 해가저문 이밤에 다시 불러보네 아름다운 추억의 사랑의 노래 이제 하염없이 흐르는 눈물자욱 위에 떠가네 그대 떠난 이밤에 다시 불러보네 외로워진 마음의 사랑의 노래 나는 그대의 사랑노래 고이 간직하며 살리라 비가 오면 아름다워라 사랑의 추억 아름다워라 그대 떠난 이밤에 그대 떠난 이밤이 깊어갈수록 사랑노래 울려퍼지네 우리 사랑이 울려퍼지네 오 해가 저문 이밤에 다시 불러보네 아름다운 추억의 사랑의 노래 이제 하염없이 흐르는 눈물자욱 위에 떠가네 그대 떠난 이밤에 다시 불러보네 외로워진 마음의 사랑의 노래 나는 그대의 사랑노래 고이 간직하며 살리라 눈 내리는 창가에 앉아 포근한 추억 어루만지네 그대 떠난 이밤 그대 떠난 이밤이 깊어갈수록 사랑노래 울려퍼지네 우리 사랑에 해가 저문 이밤에 다시 불러보네 아름다운 추억의 사랑의 노래 이제 하염없이 흐르는 눈물자욱 위에 떠가네 그대 떠난 이밤에 다시 불러보네 외로워진 마음의 사랑의 노래 나는 그대의 사랑노래 고이 간직하며 살리라 나는 그대의 사랑노래 고이 간직하며 살리라'"
      ]
     },
     "execution_count": 39,
     "metadata": {},
     "output_type": "execute_result"
    }
   ],
   "source": [
    "music['가사'][1]"
   ]
  },
  {
   "cell_type": "code",
   "execution_count": 53,
   "metadata": {},
   "outputs": [],
   "source": [
    "music.to_csv('music_pre.csv')"
   ]
  }
 ],
 "metadata": {
  "kernelspec": {
   "display_name": "Python 3 (ipykernel)",
   "language": "python",
   "name": "python3"
  },
  "language_info": {
   "codemirror_mode": {
    "name": "ipython",
    "version": 3
   },
   "file_extension": ".py",
   "mimetype": "text/x-python",
   "name": "python",
   "nbconvert_exporter": "python",
   "pygments_lexer": "ipython3",
   "version": "3.9.15"
  },
  "vscode": {
   "interpreter": {
    "hash": "a077222d77dfe082b8f1dd562ad70e458ac2ab76993a0b248ab0476e32e9e8dd"
   }
  }
 },
 "nbformat": 4,
 "nbformat_minor": 4
}
